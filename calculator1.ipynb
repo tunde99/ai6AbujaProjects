{
 "cells": [
  {
   "cell_type": "markdown",
   "metadata": {},
   "source": [
    "# Simple Calculator"
   ]
  },
  {
   "cell_type": "code",
   "execution_count": null,
   "metadata": {},
   "outputs": [
    {
     "name": "stdout",
     "output_type": "stream",
     "text": [
      "Type your choice of operation from the following:\n",
      "\n",
      "1.Addition\n",
      "2.Subtraction\n",
      "3.Division\n",
      "4.Multiplication\n",
      "\n"
     ]
    }
   ],
   "source": [
    "'''\n",
    "Created by Tunde Ajayi, on Tuesday, June 25,2019.\n",
    "This calculator performs addition, subtraction, division and multiplication.\n",
    "'''\n",
    "\n",
    "print(\"Type your choice of operation from the following:\")\n",
    "print()\n",
    "print(\"1.Addition\")\n",
    "print(\"2.Subtraction\")\n",
    "print(\"3.Division\")\n",
    "print(\"4.Multiplication\")\n",
    "print()\n",
    "\n",
    "# Accepting choice of operation\n",
    "choice = int(input(\"Type your choice here and press Enter on the keyboard: \"))\n",
    "\n",
    "# Assigning functions to user's choice\n",
    "\n",
    "# Creating addition function\n",
    "def add(num1, num2):\n",
    "    sum = num1 + num2\n",
    "    return sum\n",
    "\n",
    "# Creating subtraction function\n",
    "def subtract(num1, num2):\n",
    "    sub = num1 - num2\n",
    "    return sub\n",
    "\n",
    "# Creating division function\n",
    "def divide(num1, num2):\n",
    "    div = num1 / num2\n",
    "    return div\n",
    "\n",
    "# Creating multiplication function\n",
    "def multiply(num1, num2):\n",
    "    mul = num1 * num2\n",
    "    return mul\n",
    "print()\n",
    "print(\"*****************************************************************\")\n",
    "\n",
    "# Accepting inputs \n",
    "num1 = float(input(\"Type your first number and press Enter on the keyboard: \"))\n",
    "\n",
    "num2 = float(input(\"Type your second number and press Enter on the keyboard: \"))\n",
    "print(\"*****************************************************************\")\n",
    "\n",
    "# Setting conditions for the options\n",
    "while True:\n",
    "    if choice == 1:\n",
    "        print(\"{0} plus {1} equals to\" .format(num1, num2), add(num1, num2))\n",
    "        break\n",
    "    elif choice == 2:\n",
    "        print(\"{0} minus {1} equals to\" .format(num1, num2), subtract(num1, num2))\n",
    "        break\n",
    "    elif choice == 3:\n",
    "        print(\"{0} divided by {1} equals to\" .format(num1, num2), divide(num1, num2))\n",
    "        break\n",
    "    elif choice == 4:\n",
    "        print(\"{0} multiplied by {1} equals to\" .format(num1, num2), multiply(num1, num2))\n",
    "        break\n",
    "    else:\n",
    "        print(\"Oops!!! You have selected a wrong choice.\\n\")\n",
    "        break\n",
    "print(\"\\n_________________________________________________________________\")\n",
    "print(\"Tips:\")\n",
    "print(\"-----\")\n",
    "print(\"Restart the program, then choose either 1, 2, 3, or 4 to perform\\nanother arithmetic operation\")\n"
   ]
  },
  {
   "cell_type": "code",
   "execution_count": null,
   "metadata": {},
   "outputs": [],
   "source": []
  }
 ],
 "metadata": {
  "kernelspec": {
   "display_name": "Python 3",
   "language": "python",
   "name": "python3"
  },
  "language_info": {
   "codemirror_mode": {
    "name": "ipython",
    "version": 3
   },
   "file_extension": ".py",
   "mimetype": "text/x-python",
   "name": "python",
   "nbconvert_exporter": "python",
   "pygments_lexer": "ipython3",
   "version": "3.7.1"
  }
 },
 "nbformat": 4,
 "nbformat_minor": 2
}
